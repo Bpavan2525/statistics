{
  "nbformat": 4,
  "nbformat_minor": 0,
  "metadata": {
    "colab": {
      "provenance": []
    },
    "kernelspec": {
      "name": "python3",
      "display_name": "Python 3"
    },
    "language_info": {
      "name": "python"
    }
  },
  "cells": [
    {
      "cell_type": "markdown",
      "source": [
        "#Statistics Advance part -1"
      ],
      "metadata": {
        "id": "UcProR6x0pk6"
      }
    },
    {
      "cell_type": "markdown",
      "source": [
        "1. What is a random variable in probability theory?\n",
        "- a set of possibles values that randomly experimented.\n",
        "\n",
        "2. What are the types of random variables?\n",
        "- continuous random variables\n",
        "- discrete random variables\n",
        "\n",
        "3. What is the difference between discrete and continuous distributions?\n",
        "- discrete distribution is the finite distribution\n",
        "- continuous distribution is the infinite distribution.\n",
        "\n",
        "4. What are probability distribution functions (PDF)?\n",
        "- probability distribution function describes how probability is distributed over the values of a continuous random variables.\n",
        "\n",
        "5. How do cumulative distribution functions (CDF) differ from probability distribution functions (PDF)?\n",
        "- PDF gives density not direct probability but CDF gives cumultative probability.\n",
        "\n",
        "6. What is a discrete uniform distribution?\n",
        "- in this the outcomes has a same frequency.\n",
        "\n",
        "7. What are the key properties of a Bernoulli distribution?\n",
        "- it can be done in a finite number of trails.\n",
        "- each trail should be independent.\n",
        "- only 2 possible outcomes.\n",
        "- probability of each output should be same in every trail.\n",
        "\n",
        "8. What is the binomial distribution, and how is it used in probability?\n",
        "- in this we can do n number of trails not like bernoulli distribution.\n",
        "- and it is usefull to calculate the probability with n number of trails with the outcomes by the binomial fomula.\n",
        "\n",
        "9. What is the Poisson distribution and where is it applied?\n",
        "- is a discrete probability distribution which describes the no. of events that occur within a fixed interval of time given a known avg rate of occurences.\n",
        "\n",
        "10. What is a continuous uniform distribution?\n",
        "- which has infinite nno. of values defined in a specified range/ bound.\n",
        "\n",
        "11. What are the characteristics of a normal distribution?\n",
        "- symmetrical in nature.\n",
        "- mean=median=mode.\n",
        "- skewness=0\n",
        "\n",
        "12. What is the standard normal distribution, and why is it important?\n",
        "- Standard normal distribution is a continuous probability distribution and the mean and SD are 0 and 1. it is important in training the machine learning model to predict yes or no related cases like fraud detection done or not mostly for scalling.\n",
        "\n",
        "13. What is the Central Limit Theorem (CLT), and why is it critical in statistics?\n",
        "- sampling mean of population will approximately be a normal distribution.\n",
        "\n",
        "14. How does the Central Limit Theorem relate to the normal distribution?\n",
        "- If you take large enough random samples from any population (regardless of its original distribution), the distribution of the sample means will approximate a normal distribution (bell curve).\n",
        "\n",
        "15. What is the application of Z-statistics in hypothesis testing?\n",
        "- when the data is large and population standard deviation is known.\n",
        "\n",
        "16. How do you calculate a Z-score, and what does it represent?\n",
        "- state hypothesis (nh or ah)\n",
        "- calculate z-score.\n",
        "- determine the critical value from z table.\n",
        "- compare z score and critical value like\n",
        "- - ( if z score is > critical value then reject nh)\n",
        "- - ( if z score is < critical value then accept nh).\n",
        "\n",
        "17. What are point estimates and interval estimates in statistics?\n",
        "- point esimates are directly given with a point of estimation.\n",
        "- interval estimates means the estimation is given with a approximate of 2 values where the exact value can be between that interval.\n",
        "\n",
        "18. What is the significance of confidence intervals in statistical analysis?\n",
        "- CI provides the range of values that likely contains the true population parameters with a certain level of confidence (like 95% or 99%).\n",
        "\n",
        "19. What is the relationship between a Z-score and a confidence interval?\n",
        "- z score determines the critical values which is used to calculate the confidence interval.\n",
        "\n",
        "20. How are Z-scores used to compare different distributions?\n",
        "- Z-scores standardize values across different distributions by converting them into a common scale (mean = 0, standard deviation = 1).\n",
        "\n",
        "21. What are the assumptions for applying the Central Limit Theorem?\n",
        "- random sampling from the population.\n",
        "- independent observation.\n",
        "- large data set.\n",
        "\n",
        "22. What is the concept of expected value in a probability distribution?\n",
        "- in a lot of trails the outcome probability is known as extected value.\n",
        "\n",
        "23. How does a probability distribution relate to the expected outcome of a random variable?\n",
        "- a long run process of random variables gives an expected outcome."
      ],
      "metadata": {
        "id": "8Hx2W372dOti"
      }
    }
  ]
}