{
  "nbformat": 4,
  "nbformat_minor": 0,
  "metadata": {
    "colab": {
      "provenance": []
    },
    "kernelspec": {
      "name": "python3",
      "display_name": "Python 3"
    },
    "language_info": {
      "name": "python"
    }
  },
  "cells": [
    {
      "cell_type": "markdown",
      "source": [
        "#Statistics Basics"
      ],
      "metadata": {
        "id": "rynSA4ps10Aa"
      }
    },
    {
      "cell_type": "markdown",
      "source": [
        "1. What is statistics, and why is it important?\n",
        "- is a mathematical science including methods of collecting and organizing data in such a way that meaningful conclusions can be drawn from them.\n",
        "and it is important becuase we try to learn facts in data which means these facts/data can be helpful insights to increase the company's revenue.\n",
        "\n",
        "2. What are the two main types of statistics?\n",
        "- Descriptive statistics\n",
        "- Inferential statistics\n",
        "\n",
        "3. What are descriptive statistics?\n",
        "- it consists of organizing and summarizing the complete data/population.\n",
        "\n",
        "4. What is inferential statistics?\n",
        "- to estimate a large set of data\n",
        "- ex: to count trees in a forest.\n",
        "\n",
        "5. What is sampling in statistics?\n",
        "- sampling in statistics is nothing but taking some part of data from the huge data set to calculate and assume that the complete dataset contains this sample data.\n",
        "\n",
        "6. What are the different types of sampling methods?\n",
        "- simple random sampling\n",
        "- stratified sampling\n",
        "- cluster sampling\n",
        "- systematic sampling\n",
        "\n",
        "7. What is the difference between random and non-random sampling?\n",
        "- random sampling is selecting the sample randomly.\n",
        "- non-random sampling is nothing but systematic sampling.\n",
        "\n",
        "8. Define and give examples of qualitative and quantitative data.\n",
        "- quantitative data is nothing but numeric data\n",
        "- qualitative data is nothing but categorical data which contains strings.\n",
        "\n",
        "9. What are the different types of data in statistics?\n",
        "- discrete\n",
        "- continuous\n",
        "- nominal\n",
        "- ordinal\n",
        "\n",
        "10. Explain nominal, ordinal, interval, and ratio levels of measurement.\n",
        "- nominal has no order of data and can be converted to numerical discrete data.\n",
        "- ordinal has an order/rank which can be used for grouping of data. by making it as high, medium, low.\n",
        "- interval has a meaning in the difference and it does not start with 0 as compulsory.\n",
        "- ratio has 0 as compulsory and it has an order and the difference makes meaningful.\n",
        "\n",
        "11. What is the measure of central tendency?\n",
        "- measuring the centre point of the dataset which can be done by mean, median, mode.\n",
        "\n",
        "12. Define mean, median, and mode.\n",
        "- mean is the average of all values.\n",
        "- median is the middle value after placing them in an order.\n",
        "- mode is the frequency of the most occurred value.\n",
        "\n",
        "13. What is the significance of the measure of central tendency?\n",
        "- handling null values, finding in insightful data, helps in comparision, making it understandable.\n",
        "\n",
        "14. What is variance, and how is it calculated?\n",
        "- variance is the average of squared differences of mean and it can be calculated by using mean and each value makes the difference with mean value and then the average of square of differences makes the variance.\n",
        "\n",
        "15. What is standard deviation, and why is it important?\n",
        "- standard deviation is the square root of variance it helps find the spread level of data.\n",
        "16. Define and explain the term range in statistics.\n",
        "- the difference between maximum and minimum is called as range.\n",
        "\n",
        "17. What is the difference between variance and standard deviation?\n",
        "- variance is the square of the difference between the mean and each value by the total number of values is called as variance and standard deviation is the square root of variance.\n",
        "\n",
        "18. What is skewness in a dataset?\n",
        "- the transformation of data based on the skewness value if something is not relatively same to the data then it should be calculated under skewness like no skewness or right skewed distribution or left skewed distribution.\n",
        "\n",
        "19. What does it mean if a dataset is positively or negatively skewed?\n",
        "- positively skewed means the data is more to the right side of symmetry.\n",
        "- negatively skewed means the data is more to the left side of symmetry.\n",
        "\n",
        "20. Define and explain kurtosis.\n",
        "- is a statistical measure of observed data beside the mean to calculate tailedness.\n",
        "\n",
        "21. What is the purpose of covariance?\n",
        "- covariance is used when the data is being used to train an ML model then covariance is used to find the features highly corelated with the value.\n",
        "\n",
        "22. What does correlation measure in statistics?\n",
        "- it has a limit from -1 to 1 and it does not contain dimensions in the quantity.\n",
        "\n",
        "23. What is the difference between covariance and correlation?\n",
        "- the covariance has a dimension and it can be used to find the relation between 2 variables.\n",
        "- correlation does not have a dimension to its quantity and it has limit to the range from -1 to 1 .\n",
        "\n",
        "24. What are some real-world applications of statistics?\n",
        "- to find relation beween to variables in a data which is used to train an ml model.\n",
        "- to find meaningfull insights in the data which is done with statistics.\n",
        "- investments related data.\n"
      ],
      "metadata": {
        "id": "3A_NnV4113PF"
      }
    },
    {
      "cell_type": "markdown",
      "source": [
        "#Practical Questions"
      ],
      "metadata": {
        "id": "8vY6K_UC2OWN"
      }
    },
    {
      "cell_type": "markdown",
      "source": [
        "1. How do you calculate the mean, median, and mode of a dataset?\n"
      ],
      "metadata": {
        "id": "uK33d_MN2RU1"
      }
    },
    {
      "cell_type": "code",
      "source": [
        "import numpy as np\n",
        "import statistics\n",
        "data=[1,2,3,4,3]\n",
        "me=np.mean(data)\n",
        "med=np.median(data)\n",
        "mo=statistics.mode(data)\n",
        "print(f\"mean: {me},\\nmedian: {med}, \\nmode: {mo}\")"
      ],
      "metadata": {
        "colab": {
          "base_uri": "https://localhost:8080/"
        },
        "id": "PpE_jV8TP6-b",
        "outputId": "8dd7becd-3631-4d07-c11c-a33923c466b3"
      },
      "execution_count": null,
      "outputs": [
        {
          "output_type": "stream",
          "name": "stdout",
          "text": [
            "mean: 2.6,\n",
            "median: 3.0, \n",
            "mode: 3\n"
          ]
        }
      ]
    },
    {
      "cell_type": "markdown",
      "source": [
        "2. Write a Python program to compute the variance and standard deviation of a dataset.\n"
      ],
      "metadata": {
        "id": "0QjAwLvr2uSC"
      }
    },
    {
      "cell_type": "code",
      "source": [
        "v=np.var(data)\n",
        "sd=np.std(data)\n",
        "print(\"variance:\",v,\"\\nstandard deviation:\",sd)"
      ],
      "metadata": {
        "colab": {
          "base_uri": "https://localhost:8080/"
        },
        "id": "mPAVVHuAQ5lL",
        "outputId": "b1331220-daab-4e4b-f562-08ec99774967"
      },
      "execution_count": null,
      "outputs": [
        {
          "output_type": "stream",
          "name": "stdout",
          "text": [
            "variance: 1.0400000000000003 \n",
            "standard deviation: 1.019803902718557\n"
          ]
        }
      ]
    },
    {
      "cell_type": "markdown",
      "source": [
        "3. Create a dataset and classify its variables into nominal, ordinal, interval, and ratio types.\n"
      ],
      "metadata": {
        "id": "0w0JucSy2xFv"
      }
    },
    {
      "cell_type": "code",
      "source": [
        "import pandas as pd\n",
        "\n",
        "data = {\n",
        "    'Name': ['Alice', 'Bob', 'Clara', 'Dan', 'Eva'],\n",
        "    'Gender': ['F', 'M', 'F', 'M', 'F'],\n",
        "    'Grade': ['A', 'B', 'C', 'B', 'A'],\n",
        "    'Satisfaction': ['High', 'Medium', 'Low', 'High', 'Medium'],\n",
        "    'Age': [20, 22, 21, 23, 20],\n",
        "    'Temperature': [36.5, 37.0, 36.8, 37.2, 36.7],\n",
        "    'GPA': [3.8, 3.0, 2.5, 3.2, 3.9],\n",
        "    'Income': [15000, 10000, 8000, 12000, 17000]\n",
        "}\n",
        "df=pd.DataFrame(data)\n",
        "\n",
        "variable_types={\n",
        "    \"Nomianl\":['Name','Gender'],\n",
        "    \"Ordinal\":['Grade','Satisfaction'],\n",
        "    \"Interval\":['Temperature','GPA'],\n",
        "    \"Ratio\":['Income','Age']\n",
        "}\n",
        "\n",
        "for variable, classifiers in variable_types.items():\n",
        "  print(f\"{variable} : {', '.join(classifiers)}\")"
      ],
      "metadata": {
        "colab": {
          "base_uri": "https://localhost:8080/"
        },
        "id": "48VOX2gdRppD",
        "outputId": "f6cd8bd0-3e31-4012-a5fd-b32b158a69b0"
      },
      "execution_count": null,
      "outputs": [
        {
          "output_type": "stream",
          "name": "stdout",
          "text": [
            "Nomianl : Name, Gender\n",
            "Ordinal : Grade, Satisfaction\n",
            "Interval : Temperature, GPA\n",
            "Ratio : Income, Age\n"
          ]
        }
      ]
    },
    {
      "cell_type": "markdown",
      "source": [
        "4. Implement sampling techniques such as random sampling and stratified sampling.\n"
      ],
      "metadata": {
        "id": "EZ607BiB20-C"
      }
    },
    {
      "cell_type": "code",
      "source": [
        "import pandas as pd\n",
        "import numpy as np\n",
        "\n",
        "df = pd.DataFrame({\n",
        "    'ID': range(1, 21),\n",
        "    'Group': ['A']*10 + ['B']*10,\n",
        "    'Value': np.random.randint(1, 100, 20)\n",
        "})\n",
        "random_sampling=df.sample(n=5)\n",
        "print(f\"random sampling\\n {random_sampling}\\n\")\n",
        "strata=df.groupby('Group',group_keys=False).apply(lambda x: x.sample(2))\n",
        "print(f\"stratified sampleing \\n {strata}\")"
      ],
      "metadata": {
        "colab": {
          "base_uri": "https://localhost:8080/"
        },
        "id": "vSyuTIX_wRi0",
        "outputId": "af46e580-6128-429d-e2dc-8221336d7c7b"
      },
      "execution_count": 1,
      "outputs": [
        {
          "output_type": "stream",
          "name": "stdout",
          "text": [
            "random sampling\n",
            "     ID Group  Value\n",
            "16  17     B     16\n",
            "5    6     A     42\n",
            "17  18     B     36\n",
            "11  12     B     93\n",
            "8    9     A     37\n",
            "\n",
            "stratified sampleing \n",
            "     ID Group  Value\n",
            "1    2     A     13\n",
            "2    3     A     93\n",
            "17  18     B     36\n",
            "16  17     B     16\n"
          ]
        },
        {
          "output_type": "stream",
          "name": "stderr",
          "text": [
            "<ipython-input-1-b37a865e4f88>:11: DeprecationWarning: DataFrameGroupBy.apply operated on the grouping columns. This behavior is deprecated, and in a future version of pandas the grouping columns will be excluded from the operation. Either pass `include_groups=False` to exclude the groupings or explicitly select the grouping columns after groupby to silence this warning.\n",
            "  strata=df.groupby('Group',group_keys=False).apply(lambda x: x.sample(2))\n"
          ]
        }
      ]
    },
    {
      "cell_type": "markdown",
      "source": [
        "5. Write a Python function to calculate the range of a dataset.\n"
      ],
      "metadata": {
        "id": "JskvUjdc23jZ"
      }
    },
    {
      "cell_type": "code",
      "source": [
        "data=[1,2,3,4,5,6,7,8,10]\n",
        "range_=max(data)-min(data)\n",
        "print(\"range:\",range_)"
      ],
      "metadata": {
        "colab": {
          "base_uri": "https://localhost:8080/"
        },
        "id": "czftvktZ1pLo",
        "outputId": "ce492830-6041-4c94-b2f3-8b5898431983"
      },
      "execution_count": 3,
      "outputs": [
        {
          "output_type": "stream",
          "name": "stdout",
          "text": [
            "range: 9\n"
          ]
        }
      ]
    },
    {
      "cell_type": "markdown",
      "source": [
        "6. Create a dataset and plot its histogram to visualize skewness.\n"
      ],
      "metadata": {
        "id": "WW3dyJx32590"
      }
    },
    {
      "cell_type": "code",
      "source": [
        "import seaborn as sns\n",
        "\n",
        "data = np.random.exponential(scale=2, size=1000)\n",
        "sns.histplot(data)"
      ],
      "metadata": {
        "colab": {
          "base_uri": "https://localhost:8080/",
          "height": 447
        },
        "id": "Y8gfsTqa2J9a",
        "outputId": "1d9b3824-dd35-4b7b-96eb-5337b70d38db"
      },
      "execution_count": 4,
      "outputs": [
        {
          "output_type": "execute_result",
          "data": {
            "text/plain": [
              "<Axes: ylabel='Count'>"
            ]
          },
          "metadata": {},
          "execution_count": 4
        },
        {
          "output_type": "display_data",
          "data": {
            "text/plain": [
              "<Figure size 640x480 with 1 Axes>"
            ],
            "image/png": "[encoded data removed]"
          },
          "metadata": {}
        }
      ]
    },
    {
      "cell_type": "markdown",
      "source": [
        "7. Calculate skewness and kurtosis of a dataset using Python libraries.\n"
      ],
      "metadata": {
        "id": "wqms8E_y28Hb"
      }
    },
    {
      "cell_type": "code",
      "source": [
        "from scipy.stats import skew, kurtosis\n",
        "print(\"skew: \",skew(data))\n",
        "print(\"kurtosis: \",kurtosis(data))"
      ],
      "metadata": {
        "colab": {
          "base_uri": "https://localhost:8080/"
        },
        "id": "n7DhUnPz_H3W",
        "outputId": "c9a66f3d-eb65-48c9-8a3a-c4fc0bfb5156"
      },
      "execution_count": 5,
      "outputs": [
        {
          "output_type": "stream",
          "name": "stdout",
          "text": [
            "skew:  1.698026295264522\n",
            "kurtosis:  3.1942001227414183\n"
          ]
        }
      ]
    },
    {
      "cell_type": "markdown",
      "source": [
        "8. Generate a dataset and demonstrate both positive and negative skewness.\n"
      ],
      "metadata": {
        "id": "Pz12755c2-Jc"
      }
    },
    {
      "cell_type": "code",
      "source": [
        "import numpy as np\n",
        "from scipy.stats import skew\n",
        "import seaborn as sns\n",
        "import matplotlib.pyplot as plt\n",
        "right_skewness=np.random.exponential(scale=2,size=1000)\n",
        "left_skewness= -right_skewness+max(right_skewness)\n",
        "plt.subplot(121)\n",
        "print(\"right_skewness :\",skew(right_skewness))\n",
        "sns.histplot(right_skewness)\n",
        "plt.title(\"right skewed distribution\")\n",
        "\n",
        "plt.subplot(122)\n",
        "print(\"left_skewness :\",skew(left_skewness))\n",
        "sns.histplot(left_skewness)\n",
        "plt.title(\"left skewed distribution\")\n",
        "plt.tight_layout()"
      ],
      "metadata": {
        "colab": {
          "base_uri": "https://localhost:8080/",
          "height": 522
        },
        "id": "3mIussC7AMVP",
        "outputId": "e929fd6a-15b5-4dd6-8090-986f20790e9e"
      },
      "execution_count": 6,
      "outputs": [
        {
          "output_type": "stream",
          "name": "stdout",
          "text": [
            "right_skewness : 1.9858885074135062\n",
            "left_skewness : -1.9858885074135062\n"
          ]
        },
        {
          "output_type": "display_data",
          "data": {
            "text/plain": [
              "<Figure size 640x480 with 2 Axes>"
            ],
            "image/png": "[encoded data removed]"
          },
          "metadata": {}
        }
      ]
    },
    {
      "cell_type": "markdown",
      "source": [
        "9. Write a Python script to calculate covariance between two datasets.\n"
      ],
      "metadata": {
        "id": "0bd9Aka03AWc"
      }
    },
    {
      "cell_type": "code",
      "source": [
        "x = np.random.rand(100)\n",
        "y = np.random.rand(100)\n",
        "\n",
        "cov=np.cov(x,y)[0][1]\n",
        "cov"
      ],
      "metadata": {
        "colab": {
          "base_uri": "https://localhost:8080/"
        },
        "id": "wx1F1ZFpCXVD",
        "outputId": "154e0fb0-89c3-4430-9016-beec6c1f8c32"
      },
      "execution_count": 7,
      "outputs": [
        {
          "output_type": "execute_result",
          "data": {
            "text/plain": [
              "np.float64(-0.01676062289867956)"
            ]
          },
          "metadata": {},
          "execution_count": 7
        }
      ]
    },
    {
      "cell_type": "markdown",
      "source": [
        "10. Write a Python script to calculate the correlation coefficient between two datasets.\n"
      ],
      "metadata": {
        "id": "IX-4693W3Ccv"
      }
    },
    {
      "cell_type": "code",
      "source": [
        "corr=np.corrcoef(x,y)[0][1]\n",
        "corr"
      ],
      "metadata": {
        "colab": {
          "base_uri": "https://localhost:8080/"
        },
        "id": "lhKQzDX_Cz9G",
        "outputId": "3d507583-88b7-448c-c6b5-f4d193b128d7"
      },
      "execution_count": null,
      "outputs": [
        {
          "output_type": "execute_result",
          "data": {
            "text/plain": [
              "np.float64(0.2396298875716957)"
            ]
          },
          "metadata": {},
          "execution_count": 73
        }
      ]
    },
    {
      "cell_type": "markdown",
      "source": [
        "11. Create a scatter plot to visualize the relationship between two variables.\n"
      ],
      "metadata": {
        "id": "KPd93s-g3EiI"
      }
    },
    {
      "cell_type": "code",
      "source": [
        "x = np.random.rand(100)\n",
        "y = x * 2 + np.random.normal(0, 0.1, 100)\n",
        "df=pd.DataFrame({'x':x,\n",
        "                 'y':y})\n",
        "sns.scatterplot(data=df,x='x', y='y',legend=True)"
      ],
      "metadata": {
        "colab": {
          "base_uri": "https://localhost:8080/",
          "height": 466
        },
        "id": "JYBChRWuC-35",
        "outputId": "5dbd24d1-5a52-491b-8713-711245748283"
      },
      "execution_count": 8,
      "outputs": [
        {
          "output_type": "execute_result",
          "data": {
            "text/plain": [
              "<Axes: xlabel='x', ylabel='y'>"
            ]
          },
          "metadata": {},
          "execution_count": 8
        },
        {
          "output_type": "display_data",
          "data": {
            "text/plain": [
              "<Figure size 640x480 with 1 Axes>"
            ],
            "image/png": "[encoded data removed]"
          },
          "metadata": {}
        }
      ]
    },
    {
      "cell_type": "markdown",
      "source": [
        "12. Implement and compare simple random sampling and systematic sampling.\n"
      ],
      "metadata": {
        "id": "-sWU8cM-3Gfw"
      }
    },
    {
      "cell_type": "code",
      "source": [
        "data = pd.DataFrame({'value':np.arange(1,100)})\n",
        "simple_random=data.sample(n=10)\n",
        "systematic_sampling=data.iloc[::10]\n",
        "print(f\"random sampling :\", simple_random)\n",
        "print(f\"systematic sampling :\", systematic_sampling)"
      ],
      "metadata": {
        "colab": {
          "base_uri": "https://localhost:8080/"
        },
        "id": "-JXuTJ1_IYhT",
        "outputId": "9e8035ab-727c-482d-f731-be93ab2a288c"
      },
      "execution_count": null,
      "outputs": [
        {
          "output_type": "stream",
          "name": "stdout",
          "text": [
            "random sampling :     value\n",
            "19     20\n",
            "24     25\n",
            "76     77\n",
            "43     44\n",
            "28     29\n",
            "74     75\n",
            "37     38\n",
            "91     92\n",
            "94     95\n",
            "92     93\n",
            "systematic sampling :     value\n",
            "0       1\n",
            "10     11\n",
            "20     21\n",
            "30     31\n",
            "40     41\n",
            "50     51\n",
            "60     61\n",
            "70     71\n",
            "80     81\n",
            "90     91\n"
          ]
        }
      ]
    },
    {
      "cell_type": "markdown",
      "source": [
        "13. Calculate the mean, median, and mode of grouped data.\n"
      ],
      "metadata": {
        "id": "sbWk3mCd3IPN"
      }
    },
    {
      "cell_type": "code",
      "source": [
        "import statistics\n",
        "df = pd.DataFrame({\n",
        "    'ID': range(1, 21),\n",
        "    'Group': ['A']*10 + ['B']*10,\n",
        "    'Value': np.random.randint(1, 100, 20)\n",
        "})\n",
        "grouped_data=df.groupby('Group')['Value'].agg(['mean','median'])\n",
        "modes=df.groupby('Group')['Value'].agg(lambda x:statistics.mode(x))\n",
        "grouped_data['mode']=modes\n",
        "print(grouped_data)"
      ],
      "metadata": {
        "colab": {
          "base_uri": "https://localhost:8080/"
        },
        "id": "pZCEH_v8Kq8o",
        "outputId": "0001a02a-d190-49b7-ac96-9dd12d295e70"
      },
      "execution_count": 29,
      "outputs": [
        {
          "output_type": "stream",
          "name": "stdout",
          "text": [
            "       mean  median  mode\n",
            "Group                    \n",
            "A      60.9    58.5    88\n",
            "B      42.9    24.0    24\n"
          ]
        }
      ]
    },
    {
      "cell_type": "markdown",
      "source": [
        "14. Simulate data using Python and calculate its central tendency and dispersion.\n"
      ],
      "metadata": {
        "id": "uQ5mWQVG3K0w"
      }
    },
    {
      "cell_type": "code",
      "source": [
        "import statistics\n",
        "data=np.random.normal(50,10,1000)\n",
        "print(\"mean :\", np.mean(data))\n",
        "print(\"median :\", np.median(data))\n",
        "print(\"mode :\", statistics.mode(data))\n",
        "print(\"standard deviation :\", np.std(data))"
      ],
      "metadata": {
        "colab": {
          "base_uri": "https://localhost:8080/"
        },
        "id": "GxtWDjxQSTNC",
        "outputId": "2c591661-ca88-4226-90d0-2c6363718072"
      },
      "execution_count": 32,
      "outputs": [
        {
          "output_type": "stream",
          "name": "stdout",
          "text": [
            "mean : 50.049511603323076\n",
            "median : 49.65042636176992\n",
            "mode : 51.64449918085724\n",
            "standard deviation : 10.130734060089214\n"
          ]
        }
      ]
    },
    {
      "cell_type": "markdown",
      "source": [
        "15. Use NumPy or pandas to summarize a dataset’s descriptive statistics.\n"
      ],
      "metadata": {
        "id": "9BYXOA-U3NRG"
      }
    },
    {
      "cell_type": "code",
      "source": [
        "df = pd.DataFrame({'values': data})\n",
        "print(df.describe())"
      ],
      "metadata": {
        "colab": {
          "base_uri": "https://localhost:8080/"
        },
        "id": "7ONVfOwnTXrw",
        "outputId": "d3926284-13a6-4d9d-93d1-ead2fec7f471"
      },
      "execution_count": 33,
      "outputs": [
        {
          "output_type": "stream",
          "name": "stdout",
          "text": [
            "            values\n",
            "count  1000.000000\n",
            "mean     50.049512\n",
            "std      10.135803\n",
            "min      15.782644\n",
            "25%      43.347901\n",
            "50%      49.650426\n",
            "75%      56.949576\n",
            "max      84.954511\n"
          ]
        }
      ]
    },
    {
      "cell_type": "markdown",
      "source": [
        "16. Plot a boxplot to understand the spread and identify outliers.\n"
      ],
      "metadata": {
        "id": "-vRqCjv83UUo"
      }
    },
    {
      "cell_type": "code",
      "source": [
        "sns.boxplot(data)"
      ],
      "metadata": {
        "colab": {
          "base_uri": "https://localhost:8080/",
          "height": 428
        },
        "id": "5TKuKkrHTfO5",
        "outputId": "fff55400-8ea6-43a2-9227-b7195705b2cc"
      },
      "execution_count": 34,
      "outputs": [
        {
          "output_type": "execute_result",
          "data": {
            "text/plain": [
              "<Axes: >"
            ]
          },
          "metadata": {},
          "execution_count": 34
        },
        {
          "output_type": "display_data",
          "data": {
            "text/plain": [
              "<Figure size 640x480 with 1 Axes>"
            ],
            "image/png": "[encoded data removed]"
          },
          "metadata": {}
        }
      ]
    },
    {
      "cell_type": "markdown",
      "source": [
        "17. Calculate the interquartile range (IQR) of a dataset.\n"
      ],
      "metadata": {
        "id": "MqMrqmbr3Wrh"
      }
    },
    {
      "cell_type": "code",
      "source": [
        "percentile=np.percentile(data, [0,25,50,75,100])\n",
        "print(percentile)\n",
        "IQR=56.94957619-43.34790124\n",
        "print(\"IQR =>(Q3-Q1) :\",IQR)"
      ],
      "metadata": {
        "colab": {
          "base_uri": "https://localhost:8080/"
        },
        "id": "zyEsuJ1cTxv5",
        "outputId": "081e6247-e9ff-4a14-f821-d4016a904702"
      },
      "execution_count": 41,
      "outputs": [
        {
          "output_type": "stream",
          "name": "stdout",
          "text": [
            "[15.78264376 43.34790124 49.65042636 56.94957619 84.95451109]\n",
            "IQR =>(Q3-Q1) : 13.601674950000003\n"
          ]
        }
      ]
    },
    {
      "cell_type": "markdown",
      "source": [
        "18. Implement Z-score normalization and explain its significance.\n"
      ],
      "metadata": {
        "id": "M9rAfVnw3YqS"
      }
    },
    {
      "cell_type": "code",
      "source": [
        "from scipy.stats import zscore\n",
        "zscore=zscore(data)\n",
        "print(\"Z-score Normalized Data (first 5) :\", zscore[:5])"
      ],
      "metadata": {
        "colab": {
          "base_uri": "https://localhost:8080/"
        },
        "id": "WZQsH6VAUyKa",
        "outputId": "08042689-7902-4535-e636-35d2725910dd"
      },
      "execution_count": 45,
      "outputs": [
        {
          "output_type": "stream",
          "name": "stdout",
          "text": [
            "Z-score Normalized Data (first 5) : [ 0.15744047  1.67930655 -0.6930653  -1.16044423  0.00227913]\n"
          ]
        }
      ]
    },
    {
      "cell_type": "markdown",
      "source": [
        "19. Compare two datasets using their standard deviations.\n"
      ],
      "metadata": {
        "id": "tKEW4Vh63adj"
      }
    },
    {
      "cell_type": "code",
      "source": [
        "data1=np.random.normal(50,5,1000)\n",
        "data2=np.random.normal(50,15,1000)\n",
        "print(\"Std Dev Data1:\", np.std(data1))\n",
        "print(\"Std Dev Data2:\", np.std(data2))"
      ],
      "metadata": {
        "colab": {
          "base_uri": "https://localhost:8080/"
        },
        "id": "HJv1_GA1VPFe",
        "outputId": "96fa4e4c-1bc4-42a4-a7f1-f8ec86c86052"
      },
      "execution_count": 46,
      "outputs": [
        {
          "output_type": "stream",
          "name": "stdout",
          "text": [
            "Std Dev Data1: 5.03230612455619\n",
            "Std Dev Data2: 15.552793403055789\n"
          ]
        }
      ]
    },
    {
      "cell_type": "markdown",
      "source": [
        "20. Write a Python program to visualize covariance using a heatmap.\n"
      ],
      "metadata": {
        "id": "9RrUhl0c3c5U"
      }
    },
    {
      "cell_type": "code",
      "source": [
        "df = pd.DataFrame({\n",
        "    'A': np.random.rand(100),\n",
        "    'B': np.random.rand(100),\n",
        "    'C': np.random.rand(100)\n",
        "})\n",
        "\n",
        "sns.heatmap(df.cov(), annot=True)\n",
        "plt.title(\"Covariance Heatmap\")\n",
        "plt.show()"
      ],
      "metadata": {
        "colab": {
          "base_uri": "https://localhost:8080/",
          "height": 452
        },
        "id": "l51AAI41VnIY",
        "outputId": "8a0f344a-6ffb-428a-e16b-61770b14b42c"
      },
      "execution_count": 47,
      "outputs": [
        {
          "output_type": "display_data",
          "data": {
            "text/plain": [
              "<Figure size 640x480 with 2 Axes>"
            ],
            "image/png": "[encoded data removed]"
          },
          "metadata": {}
        }
      ]
    },
    {
      "cell_type": "markdown",
      "source": [
        "21. Use seaborn to create a correlation matrix for a dataset.\n"
      ],
      "metadata": {
        "id": "fP297Dh93e6v"
      }
    },
    {
      "cell_type": "code",
      "source": [
        "sns.heatmap(df.corr(),annot=True)\n",
        "plt.title(\"correlation matrix\")\n",
        "plt.show()"
      ],
      "metadata": {
        "colab": {
          "base_uri": "https://localhost:8080/",
          "height": 452
        },
        "id": "WAFLwHKLVulk",
        "outputId": "63eae4db-cb9f-4dfc-92f4-874317937124"
      },
      "execution_count": 49,
      "outputs": [
        {
          "output_type": "display_data",
          "data": {
            "text/plain": [
              "<Figure size 640x480 with 2 Axes>"
            ],
            "image/png": "[encoded data removed]"
          },
          "metadata": {}
        }
      ]
    },
    {
      "cell_type": "markdown",
      "source": [
        "22. Generate a dataset and implement both variance and standard deviation computations.\n"
      ],
      "metadata": {
        "id": "trd7PxNP3gaX"
      }
    },
    {
      "cell_type": "code",
      "source": [
        "data=np.random.normal(50,5,1000)\n",
        "variance=np.var(data)\n",
        "print(\"variance: \",variance)\n",
        "standard_deviation=np.std(data)\n",
        "print(\"standard deviation :\", standard_deviation)"
      ],
      "metadata": {
        "colab": {
          "base_uri": "https://localhost:8080/"
        },
        "id": "SWTd5pTsWDal",
        "outputId": "bab43092-4980-43eb-d9c7-3d47a6155406"
      },
      "execution_count": 51,
      "outputs": [
        {
          "output_type": "stream",
          "name": "stdout",
          "text": [
            "variance:  24.52626876331563\n",
            "standard deviation : 4.952400303218191\n"
          ]
        }
      ]
    },
    {
      "cell_type": "markdown",
      "source": [
        "23. Visualize skewness and kurtosis using Python libraries like matplotlib or seaborn.\n"
      ],
      "metadata": {
        "id": "baS2R7ka3h7n"
      }
    },
    {
      "cell_type": "code",
      "source": [
        "sns.histplot(data, kde=True)\n",
        "plt.title(f\"Skew :{skew(data):.2f}, kurtosis :{kurtosis(data):.2f}\")"
      ],
      "metadata": {
        "colab": {
          "base_uri": "https://localhost:8080/",
          "height": 469
        },
        "id": "Qt-Pn8A1WlXW",
        "outputId": "e78e3e91-a60d-4898-c83a-634b57813d88"
      },
      "execution_count": 62,
      "outputs": [
        {
          "output_type": "execute_result",
          "data": {
            "text/plain": [
              "Text(0.5, 1.0, 'Skew :0.02, kurtosis :0.29')"
            ]
          },
          "metadata": {},
          "execution_count": 62
        },
        {
          "output_type": "display_data",
          "data": {
            "text/plain": [
              "<Figure size 640x480 with 1 Axes>"
            ],
            "image/png": "[encoded data removed]"
          },
          "metadata": {}
        }
      ]
    },
    {
      "cell_type": "markdown",
      "source": [
        "24. Implement both Pearson and Spearman correlation coefficients for a dataset.\n"
      ],
      "metadata": {
        "id": "a-hJSH2L3jih"
      }
    },
    {
      "cell_type": "code",
      "execution_count": 66,
      "metadata": {
        "id": "xuI2SEfe1rdj",
        "colab": {
          "base_uri": "https://localhost:8080/"
        },
        "outputId": "5e1909e6-d202-4955-8667-1234e2b4d9c0"
      },
      "outputs": [
        {
          "output_type": "stream",
          "name": "stdout",
          "text": [
            "Pearson Correlation: -0.11030339478327135\n",
            "Spearman Correlation: -0.11451545154515451\n"
          ]
        }
      ],
      "source": [
        "from scipy.stats import pearsonr,spearmanr\n",
        "x=np.random.rand(100)\n",
        "y=np.random.rand(100)\n",
        "\n",
        "pearson_corr,_ = pearsonr(x, y)\n",
        "spearman_corr, _ = spearmanr(x, y)\n",
        "\n",
        "print(\"Pearson Correlation:\", pearson_corr)\n",
        "print(\"Spearman Correlation:\", spearman_corr)\n"
      ]
    }
  ]
}